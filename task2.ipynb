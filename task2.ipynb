{
  "nbformat": 4,
  "nbformat_minor": 0,
  "metadata": {
    "colab": {
      "name": "task2.ipynb",
      "provenance": [],
      "collapsed_sections": []
    },
    "kernelspec": {
      "name": "python3",
      "display_name": "Python 3"
    }
  },
  "cells": [
    {
      "cell_type": "code",
      "metadata": {
        "id": "cQsPT1mNZH3f",
        "colab_type": "code",
        "outputId": "dac01c60-2460-43d1-f63f-437eacf10ed9",
        "colab": {
          "base_uri": "https://localhost:8080/",
          "height": 323
        }
      },
      "source": [
        "x=input()\n",
        "v=x.split(',');\n",
        "print(v)\n",
        "l=5; star=\"*\"; rev = list(range(1,6)); \n",
        "for x in rev: \n",
        "  print(star*x)\n",
        "\n",
        "\n",
        "rev.reverse()\n",
        "for x in  rev: \n",
        "  print(star*x)\n",
        "j=input(); print(j[::-1]);\n",
        "ft='';\n",
        "ft=\"\"+\"WE, THE PEOPLE OF INDIA \\n      having solemnly resolved to constitute India into a SOVEREIGN, !\\n            SOCIALIST, SECULAR, DEMOCRATIC REPUBLIC \\n              and to secure to all its citizens\";\n",
        "print(ft)\n"
      ],
      "execution_count": 26,
      "outputs": [
        {
          "output_type": "stream",
          "text": [
            "8,f,8f,8f,\n",
            "['8', 'f', '8f', '8f', '']\n",
            "*\n",
            "**\n",
            "***\n",
            "****\n",
            "*****\n",
            "*****\n",
            "****\n",
            "***\n",
            "**\n",
            "*\n",
            "fgt\n",
            "tgf\n",
            "WE, THE PEOPLE OF INDIA \n",
            "      having solemnly resolved to constitute India into a SOVEREIGN, !\n",
            "            SOCIALIST, SECULAR, DEMOCRATIC REPUBLIC \n",
            "              and to secure to all its citizens\n"
          ],
          "name": "stdout"
        }
      ]
    },
    {
      "cell_type": "markdown",
      "metadata": {
        "id": "wzkj5lIO-Tnx",
        "colab_type": "text"
      },
      "source": [
        ""
      ]
    },
    {
      "cell_type": "markdown",
      "metadata": {
        "id": "duZsXxAuZINA",
        "colab_type": "text"
      },
      "source": [
        ""
      ]
    }
  ]
}